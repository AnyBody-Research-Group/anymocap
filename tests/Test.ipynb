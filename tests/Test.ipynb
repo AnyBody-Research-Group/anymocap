{
 "metadata": {
  "name": "",
  "signature": "sha256:170dedfac3d191812fbc897be5ea23e0b319fa60b1b2350182900b287268d8b2"
 },
 "nbformat": 3,
 "nbformat_minor": 0,
 "worksheets": [
  {
   "cells": [
    {
     "cell_type": "code",
     "collapsed": false,
     "input": [
      "from __future__ import division, absolute_import, print_function, unicode_literals\n",
      "import os\n",
      "import shutil\n",
      "import pytest\n",
      "\n",
      "!ls\n",
      "%cd .."
     ],
     "language": "python",
     "metadata": {},
     "outputs": [
      {
       "output_type": "stream",
       "stream": "stdout",
       "text": [
        "Test.ipynb\n",
        "__pycache__\n",
        "test_examples.py\n",
        "C:\\Users\\Morten\\Documents\\GitHub\\anymocap\n"
       ]
      }
     ],
     "prompt_number": 6
    },
    {
     "cell_type": "code",
     "collapsed": false,
     "input": [
      "from anypytools.abcutils import AnyPyProcess\n",
      "from anypytools.generate_macros import MacroGenerator\n",
      "\n",
      "app =  AnyPyProcess()\n",
      "mg = MacroGenerator()\n"
     ],
     "language": "python",
     "metadata": {},
     "outputs": [],
     "prompt_number": 13
    },
    {
     "cell_type": "code",
     "collapsed": false,
     "input": [
      "macro = [['load \"Examples/DynamicOnly/Main.any\"']]\n",
      "result = app.start_macro(macro)\n"
     ],
     "language": "python",
     "metadata": {},
     "outputs": [
      {
       "output_type": "stream",
       "stream": "stdout",
       "text": [
        "\r",
        " [****************100%******************]  1 of 1 complete"
       ]
      },
      {
       "output_type": "stream",
       "stream": "stdout",
       "text": [
        "\n"
       ]
      },
      {
       "html": [
        "Total time: 8 seconds"
       ],
       "metadata": {},
       "output_type": "display_data",
       "text": [
        "<IPython.core.display.HTML at 0x4c03dd8>"
       ]
      }
     ],
     "prompt_number": 8
    },
    {
     "cell_type": "code",
     "collapsed": false,
     "input": [
      "defines = {'JOINT_AND_DRIVERS_OPTIMIZED':\"0\"}\n",
      "mg.add_load('Examples/DynamicOnly/Main.any',define_kw = defines)\n",
      "mg.add_run_operation('Main.RunApplication.RunParameterIdentificaiton')\n",
      "mg.add_run_operation('Main.RunApplication.SaveParameters')\n",
      "result = app.start_macro(macro)\n"
     ],
     "language": "python",
     "metadata": {},
     "outputs": [
      {
       "output_type": "stream",
       "stream": "stdout",
       "text": [
        "\r",
        " [                  0%                  ]  0 of 1 complete"
       ]
      }
     ]
    },
    {
     "cell_type": "code",
     "collapsed": false,
     "input": [
      "macro = [['load \"Examples/InitialPosExample/Main.any\"']]\n",
      "result = app.start_macro(macro)\n"
     ],
     "language": "python",
     "metadata": {},
     "outputs": [
      {
       "output_type": "stream",
       "stream": "stdout",
       "text": [
        "\r",
        " [****************100%******************]  1 of 1 complete"
       ]
      },
      {
       "output_type": "stream",
       "stream": "stdout",
       "text": [
        "\n"
       ]
      },
      {
       "html": [
        "Total time: 8 seconds"
       ],
       "metadata": {},
       "output_type": "display_data",
       "text": [
        "<IPython.core.display.HTML at 0x538e278>"
       ]
      }
     ],
     "prompt_number": 10
    },
    {
     "cell_type": "code",
     "collapsed": false,
     "input": [],
     "language": "python",
     "metadata": {},
     "outputs": []
    }
   ],
   "metadata": {}
  }
 ]
}